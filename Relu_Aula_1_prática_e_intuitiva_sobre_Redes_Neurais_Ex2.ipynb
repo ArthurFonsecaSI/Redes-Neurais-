{
  "nbformat": 4,
  "nbformat_minor": 0,
  "metadata": {
    "colab": {
      "provenance": [],
      "include_colab_link": true
    },
    "kernelspec": {
      "name": "python3",
      "display_name": "Python 3"
    },
    "language_info": {
      "name": "python"
    }
  },
  "cells": [
    {
      "cell_type": "markdown",
      "metadata": {
        "id": "view-in-github",
        "colab_type": "text"
      },
      "source": [
        "<a href=\"https://colab.research.google.com/github/ArthurFonsecaSI/Redes-Neurais-/blob/main/Relu_Aula_1_pr%C3%A1tica_e_intuitiva_sobre_Redes_Neurais_Ex2.ipynb\" target=\"_parent\"><img src=\"https://colab.research.google.com/assets/colab-badge.svg\" alt=\"Open In Colab\"/></a>"
      ]
    },
    {
      "cell_type": "markdown",
      "source": [
        "Código equivalente ao código anterior, mas agora com uma rede neural de duas camadas, onde cada camada tem um neurônio. A primeira camada recebe as entradas, e a segunda camada recebe a saída da primeira camada como entrada. Vamos usar o mesmo dataset fictício (problema XOR) e permitir a escolha de funções de ativação."
      ],
      "metadata": {
        "id": "ytVHkVA7UMoJ"
      }
    },
    {
      "cell_type": "code",
      "source": [
        "import numpy as np\n",
        "import matplotlib.pyplot as plt\n",
        "\n",
        "# Funções de ativação\n",
        "def sigmoid(x):\n",
        "    return 1 / (1 + np.exp(-x))\n",
        "\n",
        "def relu(x):\n",
        "    return np.maximum(0, x)\n",
        "\n",
        "def tanh(x):\n",
        "    return np.tanh(x)\n",
        "\n",
        "# Derivadas das funções de ativação (para o gradiente)\n",
        "def sigmoid_derivative(x):\n",
        "    return sigmoid(x) * (1 - sigmoid(x))\n",
        "\n",
        "def relu_derivative(x):\n",
        "    return np.where(x > 0, 1, 0)\n",
        "\n",
        "def tanh_derivative(x):\n",
        "    return 1 - np.tanh(x)**2\n",
        "\n",
        "# Novo dataset: saída = 1 se entrada1 > entrada2, senão 0\n",
        "X = np.array([\n",
        "    [0.1, 0.5],\n",
        "    [0.6, 0.2],\n",
        "    [0.3, 0.3],\n",
        "    [0.9, 0.4],\n",
        "    [0.7, 0.8],\n",
        "    [0.2, 0.1],\n",
        "    [0.5, 0.6],\n",
        "    [0.4, 0.2],\n",
        "    [0.8, 0.8],\n",
        "    [0.9, 0.1]\n",
        "])\n",
        "\n",
        "y = np.array([\n",
        "    [0],\n",
        "    [1],\n",
        "    [0],\n",
        "    [1],\n",
        "    [0],\n",
        "    [1],\n",
        "    [0],\n",
        "    [1],\n",
        "    [0],\n",
        "    [1]\n",
        "])\n",
        "\n",
        "\n",
        "# Hiperparâmetros\n",
        "learning_rate = 0.1\n",
        "epochs = 10000\n",
        "\n",
        "# Inicialização dos pesos e viés\n",
        "np.random.seed(42)\n",
        "# Camada 1: 2 entradas -> 1 neurônio\n",
        "weights_1 = np.random.randn(2, 1)\n",
        "bias_1 = np.random.randn()\n",
        "\n",
        "# Camada 2: 1 entrada (saída da camada 1) -> 1 neurônio\n",
        "weights_2 = np.random.randn(1, 1)\n",
        "bias_2 = np.random.randn()\n",
        "\n",
        "# Escolha da função de ativação\n",
        "activation_function = relu\n",
        "activation_derivative = relu_derivative\n",
        "\n",
        "# Treinamento da rede\n",
        "errors = []\n",
        "for epoch in range(epochs):\n",
        "    # Forward pass\n",
        "    # Camada 1\n",
        "    weighted_sum_1 = np.dot(X, weights_1) + bias_1\n",
        "    output_1 = activation_function(weighted_sum_1)\n",
        "\n",
        "    # Camada 2\n",
        "    weighted_sum_2 = np.dot(output_1, weights_2) + bias_2\n",
        "    output_2 = activation_function(weighted_sum_2)\n",
        "\n",
        "    # Cálculo do erro (erro quadrático médio)\n",
        "    error = y - output_2\n",
        "    errors.append(np.mean(np.square(error)))\n",
        "\n",
        "    # Backpropagation\n",
        "    # Gradiente da camada 2\n",
        "    d_error = -2 * error / len(X)\n",
        "    d_output_2 = activation_derivative(weighted_sum_2)\n",
        "    gradient_2 = d_error * d_output_2\n",
        "\n",
        "    # Gradiente da camada 1\n",
        "    d_output_1 = activation_derivative(weighted_sum_1)\n",
        "    gradient_1 = np.dot(gradient_2, weights_2.T) * d_output_1\n",
        "\n",
        "    # Atualização dos pesos e viés\n",
        "    weights_2 -= learning_rate * np.dot(output_1.T, gradient_2)\n",
        "    bias_2 -= learning_rate * np.sum(gradient_2)\n",
        "\n",
        "    weights_1 -= learning_rate * np.dot(X.T, gradient_1)\n",
        "    bias_1 -= learning_rate * np.sum(gradient_1)\n",
        "\n",
        "    # Exibir progresso a cada 1000 épocas\n",
        "    if epoch % 1000 == 0:\n",
        "        print(f\"Época {epoch}, Erro: {errors[-1]}\")\n"
      ],
      "metadata": {
        "id": "egTUSccKUTWp",
        "colab": {
          "base_uri": "https://localhost:8080/"
        },
        "collapsed": true,
        "outputId": "3ac8c1c5-5b4f-4df3-8c6b-ac71debda44d"
      },
      "execution_count": 3,
      "outputs": [
        {
          "output_type": "stream",
          "name": "stdout",
          "text": [
            "Época 0, Erro: 0.5355751471500965\n",
            "Época 1000, Erro: 0.051948051948051986\n",
            "Época 2000, Erro: 0.05194805194805195\n",
            "Época 3000, Erro: 0.05194805194805195\n",
            "Época 4000, Erro: 0.05194805194805195\n",
            "Época 5000, Erro: 0.05194805194805195\n",
            "Época 6000, Erro: 0.05194805194805195\n",
            "Época 7000, Erro: 0.05194805194805195\n",
            "Época 8000, Erro: 0.05194805194805195\n",
            "Época 9000, Erro: 0.05194805194805195\n"
          ]
        }
      ]
    },
    {
      "cell_type": "code",
      "source": [
        "# Plot do erro ao longo do treinamento\n",
        "plt.plot(range(epochs), errors)\n",
        "plt.title(\"Erro ao longo do treinamento\")\n",
        "plt.xlabel(\"Época\")\n",
        "plt.ylabel(\"Erro\")\n",
        "plt.show()\n",
        "\n",
        "# Teste da rede treinada\n",
        "print(\"\\nTeste da rede treinada:\")\n",
        "for i in range(len(X)):\n",
        "    # Forward pass\n",
        "    weighted_sum_1 = np.dot(X[i], weights_1) + bias_1\n",
        "    output_1 = activation_function(weighted_sum_1)\n",
        "\n",
        "    weighted_sum_2 = np.dot(output_1, weights_2) + bias_2\n",
        "    output_2 = activation_function(weighted_sum_2)\n",
        "\n",
        "    print(f\"Entrada: {X[i]}, Saída esperada: {y[i]}, Saída da rede: {output_2}\")"
      ],
      "metadata": {
        "id": "_ABiebIyUrdo",
        "colab": {
          "base_uri": "https://localhost:8080/",
          "height": 682
        },
        "outputId": "2dede9ff-1f88-40a5-8624-02c297009a0b"
      },
      "execution_count": 4,
      "outputs": [
        {
          "output_type": "display_data",
          "data": {
            "text/plain": [
              "<Figure size 640x480 with 1 Axes>"
            ],
            "image/png": "[encoded data removed]"
          },
          "metadata": {}
        },
        {
          "output_type": "stream",
          "name": "stdout",
          "text": [
            "\n",
            "Teste da rede treinada:\n",
            "Entrada: [0.1 0.5], Saída esperada: [0], Saída da rede: [0.]\n",
            "Entrada: [0.6 0.2], Saída esperada: [1], Saída da rede: [0.8961039]\n",
            "Entrada: [0.3 0.3], Saída esperada: [0], Saída da rede: [0.47727273]\n",
            "Entrada: [0.9 0.4], Saída esperada: [1], Saída da rede: [0.73051948]\n",
            "Entrada: [0.7 0.8], Saída esperada: [0], Saída da rede: [0.]\n",
            "Entrada: [0.2 0.1], Saída esperada: [1], Saída da rede: [0.79220779]\n",
            "Entrada: [0.5 0.6], Saída esperada: [0], Saída da rede: [0.04220779]\n",
            "Entrada: [0.4 0.2], Saída esperada: [1], Saída da rede: [0.74675325]\n",
            "Entrada: [0.8 0.8], Saída esperada: [0], Saída da rede: [0.]\n",
            "Entrada: [0.9 0.1], Saída esperada: [1], Saída da rede: [1.31493506]\n"
          ]
        }
      ]
    }
  ]
}